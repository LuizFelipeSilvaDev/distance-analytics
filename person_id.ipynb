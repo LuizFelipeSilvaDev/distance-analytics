{
 "cells": [
  {
   "cell_type": "code",
   "execution_count": 5,
   "metadata": {},
   "outputs": [
    {
     "name": "stdout",
     "output_type": "stream",
     "text": [
      "✅ Lista de person_id encontrados no arquivo:\n",
      "[16077466, 13029057, 16088354, 16194287, 15919259, 15515136]\n",
      "✅ Arquivo gerado com sucesso: person_ids_encontrados.xlsx\n"
     ]
    }
   ],
   "source": [
    "import pandas as pd\n",
    "\n",
    "# Nome do arquivo de entrada\n",
    "file_path = \"gpt_api_logs.xlsx\"\n",
    "\n",
    "# Lista atualizada de person_id\n",
    "person_id_list = [\n",
    "    12063558, 13029057, 15629391, 15843021, 16239530, 14022368, 15795683, 15896174, 16088354,\n",
    "    16115766, 16275377, 16162422, 16077466, 15901666, 15542467, 15106360, 16392865, 16336847,\n",
    "    15789500, 16400372, 15498416, 15323679, 16056734, 15831469, 15716949, 15986257, 16194287,\n",
    "    14353927, 15621707, 16306253, 16175540, 16309115, 16366254, 16344096, 15854873, 15892853,\n",
    "    16313795, 14494724, 11279675, 16152433, 15757791, 15975010, 15866170, 15878517, 16329769,\n",
    "    16383362, 16286462, 15481200, 16201155, 14282847, 15826043, 16382702, 15515136, 14842743,\n",
    "    11075246, 16266656, 14879644, 16333854, 16078074, 13642946, 15267715, 16030892, 16115681,\n",
    "    15915092, 15989734, 15901825, 15858093, 14689932, 16074237, 15768680, 16203412, 15706658,\n",
    "    6590560, 13377296, 15950510, 16264642, 16386668, 12303491, 16379986, 15745034, 15294589,\n",
    "    16343618, 12250974, 14942716, 16381455, 14832951, 13684360, 15506651, 15472317, 16396476,\n",
    "    14625918, 15636273, 16240502, 16176774, 15485491, 16369928, 15790693, 15919259, 16316119,\n",
    "    16351763, 16398468, 14355340, 15196561, 16388456, 15981764, 16158202, 15404753, 15980671,\n",
    "    15170182, 12500378, 15709996, 16384969, 15070745\n",
    "]\n",
    "\n",
    "# Ler o arquivo Excel\n",
    "df = pd.read_excel(file_path)\n",
    "\n",
    "# Verificar se a coluna 'person_id' existe no DataFrame\n",
    "if 'person_id' in df.columns:\n",
    "    # Filtrar apenas os valores de person_id que estão na lista fornecida\n",
    "    matched_person_ids = df[df['person_id'].isin(person_id_list)]['person_id'].drop_duplicates().tolist()\n",
    "    \n",
    "    # Exibir os valores encontrados\n",
    "    print(\"✅ Lista de person_id encontrados no arquivo:\")\n",
    "    print(matched_person_ids)\n",
    "\n",
    "    # Criar um DataFrame com os valores encontrados\n",
    "    matched_df = df[df['person_id'].isin(matched_person_ids)]\n",
    "\n",
    "    # Salvar os valores encontrados em um novo arquivo Excel\n",
    "    output_file = \"person_ids_encontrados.xlsx\"\n",
    "    matched_df.to_excel(output_file, index=False)\n",
    "\n",
    "    print(f\"✅ Arquivo gerado com sucesso: {output_file}\")\n",
    "\n",
    "else:\n",
    "    print(\"❌ A coluna 'person_id' não foi encontrada no arquivo.\")\n"
   ]
  }
 ],
 "metadata": {
  "kernelspec": {
   "display_name": "myenv",
   "language": "python",
   "name": "python3"
  },
  "language_info": {
   "codemirror_mode": {
    "name": "ipython",
    "version": 3
   },
   "file_extension": ".py",
   "mimetype": "text/x-python",
   "name": "python",
   "nbconvert_exporter": "python",
   "pygments_lexer": "ipython3",
   "version": "3.10.13"
  }
 },
 "nbformat": 4,
 "nbformat_minor": 2
}
